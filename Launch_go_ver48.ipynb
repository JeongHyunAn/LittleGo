{
 "cells": [
  {
   "cell_type": "code",
   "execution_count": 1,
   "metadata": {},
   "outputs": [
    {
     "name": "stdout",
     "output_type": "stream",
     "text": [
      "Playing QLearner against RandomPlayer for 100 times......\n",
      "randomPASS\n",
      "randomPASS\n",
      "____________________________________________________________\n",
      "       MyPlayer(X) | Wins:80.0% Draws:0.0% Losses:20.0%\n",
      "   RandomPlayer(O) | Wins:20.0% Draws:0.0% Losses:80.0%\n",
      "____________________________________________________________\n",
      "\n",
      "____________________________________________________________\n",
      "   RandomPlayer(X) | Wins:2.0% Draws:0.0% Losses:98.0%\n",
      "       MyPlayer(O) | Wins:98.0% Draws:0.0% Losses:2.0%\n",
      "____________________________________________________________\n",
      "\n",
      "Summary:\n",
      "____________________________________________________________\n",
      "QLearner VS  RandomPlayer |  Win/Draw Rate = 89.0%\n",
      "____________________________________________________________\n",
      "\n",
      "Task 2 Grade: 13.3 / 70 \n",
      "\n"
     ]
    }
   ],
   "source": [
    "!python play_go.py"
   ]
  }
 ],
 "metadata": {
  "kernelspec": {
   "display_name": "Python 3",
   "language": "python",
   "name": "python3"
  },
  "language_info": {
   "codemirror_mode": {
    "name": "ipython",
    "version": 3
   },
   "file_extension": ".py",
   "mimetype": "text/x-python",
   "name": "python",
   "nbconvert_exporter": "python",
   "pygments_lexer": "ipython3",
   "version": "3.8.5"
  }
 },
 "nbformat": 4,
 "nbformat_minor": 4
}
